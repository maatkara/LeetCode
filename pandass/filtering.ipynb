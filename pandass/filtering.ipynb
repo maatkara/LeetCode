{
 "cells": [
  {
   "cell_type": "code",
   "execution_count": 1,
   "id": "ddda11d1",
   "metadata": {
    "ExecuteTime": {
     "end_time": "2023-08-12T10:21:42.257064Z",
     "start_time": "2023-08-12T10:21:42.009864Z"
    }
   },
   "outputs": [],
   "source": [
    "import pandas as pd\n",
    "import numpy as np"
   ]
  },
  {
   "cell_type": "markdown",
   "id": "f4c51909",
   "metadata": {},
   "source": [
    "# 183. Customers Who Never Order"
   ]
  },
  {
   "cell_type": "markdown",
   "id": "69b03d71",
   "metadata": {},
   "source": [
    "Input: \n",
    "Customers table:\n",
    "+----+-------+\n",
    "| id | name  |\n",
    "+----+-------+\n",
    "| 1  | Joe   |\n",
    "| 2  | Henry |\n",
    "| 3  | Sam   |\n",
    "| 4  | Max   |\n",
    "+----+-------+\n",
    "Orders table:\n",
    "+----+------------+\n",
    "| id | customerId |\n",
    "+----+------------+\n",
    "| 1  | 3          |\n",
    "| 2  | 1          |\n",
    "+----+------------+\n",
    "Output: \n",
    "+-----------+\n",
    "| Customers |\n",
    "+-----------+\n",
    "| Henry     |\n",
    "| Max       |\n",
    "+-----------+"
   ]
  },
  {
   "cell_type": "code",
   "execution_count": 12,
   "id": "fd9a0769",
   "metadata": {
    "ExecuteTime": {
     "end_time": "2023-08-12T10:34:52.822850Z",
     "start_time": "2023-08-12T10:34:52.820014Z"
    }
   },
   "outputs": [],
   "source": [
    "def find_customers(customers: pd.DataFrame, orders: pd.DataFrame) -> pd.DataFrame:\n",
    "    return customers.loc[~customers.id.isin(orders.customerId), ['name']].rename(columns={'name': 'Customers'})\n",
    "    "
   ]
  },
  {
   "cell_type": "code",
   "execution_count": 5,
   "id": "e7d34e05",
   "metadata": {
    "ExecuteTime": {
     "end_time": "2023-08-12T10:33:07.264720Z",
     "start_time": "2023-08-12T10:33:07.251687Z"
    }
   },
   "outputs": [
    {
     "data": {
      "text/html": [
       "<div>\n",
       "<style scoped>\n",
       "    .dataframe tbody tr th:only-of-type {\n",
       "        vertical-align: middle;\n",
       "    }\n",
       "\n",
       "    .dataframe tbody tr th {\n",
       "        vertical-align: top;\n",
       "    }\n",
       "\n",
       "    .dataframe thead th {\n",
       "        text-align: right;\n",
       "    }\n",
       "</style>\n",
       "<table border=\"1\" class=\"dataframe\">\n",
       "  <thead>\n",
       "    <tr style=\"text-align: right;\">\n",
       "      <th></th>\n",
       "      <th>id</th>\n",
       "      <th>name</th>\n",
       "    </tr>\n",
       "  </thead>\n",
       "  <tbody>\n",
       "    <tr>\n",
       "      <th>0</th>\n",
       "      <td>1</td>\n",
       "      <td>Joe</td>\n",
       "    </tr>\n",
       "    <tr>\n",
       "      <th>1</th>\n",
       "      <td>2</td>\n",
       "      <td>Henry</td>\n",
       "    </tr>\n",
       "    <tr>\n",
       "      <th>2</th>\n",
       "      <td>3</td>\n",
       "      <td>Sam</td>\n",
       "    </tr>\n",
       "    <tr>\n",
       "      <th>3</th>\n",
       "      <td>4</td>\n",
       "      <td>Max</td>\n",
       "    </tr>\n",
       "  </tbody>\n",
       "</table>\n",
       "</div>"
      ],
      "text/plain": [
       "   id   name\n",
       "0   1    Joe\n",
       "1   2  Henry\n",
       "2   3    Sam\n",
       "3   4    Max"
      ]
     },
     "execution_count": 5,
     "metadata": {},
     "output_type": "execute_result"
    }
   ],
   "source": [
    "customers = pd.DataFrame(['Joe', 'Henry', 'Sam', 'Max']).reset_index()\n",
    "customers.columns=['id', 'name']\n",
    "customers.id +=  1\n",
    "customers"
   ]
  },
  {
   "cell_type": "code",
   "execution_count": 6,
   "id": "1137c8e9",
   "metadata": {
    "ExecuteTime": {
     "end_time": "2023-08-12T10:33:29.672746Z",
     "start_time": "2023-08-12T10:33:29.658557Z"
    }
   },
   "outputs": [
    {
     "data": {
      "text/html": [
       "<div>\n",
       "<style scoped>\n",
       "    .dataframe tbody tr th:only-of-type {\n",
       "        vertical-align: middle;\n",
       "    }\n",
       "\n",
       "    .dataframe tbody tr th {\n",
       "        vertical-align: top;\n",
       "    }\n",
       "\n",
       "    .dataframe thead th {\n",
       "        text-align: right;\n",
       "    }\n",
       "</style>\n",
       "<table border=\"1\" class=\"dataframe\">\n",
       "  <thead>\n",
       "    <tr style=\"text-align: right;\">\n",
       "      <th></th>\n",
       "      <th>id</th>\n",
       "      <th>customerId</th>\n",
       "    </tr>\n",
       "  </thead>\n",
       "  <tbody>\n",
       "    <tr>\n",
       "      <th>0</th>\n",
       "      <td>1</td>\n",
       "      <td>3</td>\n",
       "    </tr>\n",
       "    <tr>\n",
       "      <th>1</th>\n",
       "      <td>2</td>\n",
       "      <td>1</td>\n",
       "    </tr>\n",
       "  </tbody>\n",
       "</table>\n",
       "</div>"
      ],
      "text/plain": [
       "   id  customerId\n",
       "0   1           3\n",
       "1   2           1"
      ]
     },
     "execution_count": 6,
     "metadata": {},
     "output_type": "execute_result"
    }
   ],
   "source": [
    "orders = pd.DataFrame([3, 1]).reset_index()\n",
    "orders.columns = ['id', 'customerId']\n",
    "orders.id +=  1\n",
    "orders"
   ]
  },
  {
   "cell_type": "code",
   "execution_count": 13,
   "id": "5c84a082",
   "metadata": {
    "ExecuteTime": {
     "end_time": "2023-08-12T10:34:55.025144Z",
     "start_time": "2023-08-12T10:34:55.010978Z"
    }
   },
   "outputs": [
    {
     "data": {
      "text/html": [
       "<div>\n",
       "<style scoped>\n",
       "    .dataframe tbody tr th:only-of-type {\n",
       "        vertical-align: middle;\n",
       "    }\n",
       "\n",
       "    .dataframe tbody tr th {\n",
       "        vertical-align: top;\n",
       "    }\n",
       "\n",
       "    .dataframe thead th {\n",
       "        text-align: right;\n",
       "    }\n",
       "</style>\n",
       "<table border=\"1\" class=\"dataframe\">\n",
       "  <thead>\n",
       "    <tr style=\"text-align: right;\">\n",
       "      <th></th>\n",
       "      <th>Customers</th>\n",
       "    </tr>\n",
       "  </thead>\n",
       "  <tbody>\n",
       "    <tr>\n",
       "      <th>1</th>\n",
       "      <td>Henry</td>\n",
       "    </tr>\n",
       "    <tr>\n",
       "      <th>3</th>\n",
       "      <td>Max</td>\n",
       "    </tr>\n",
       "  </tbody>\n",
       "</table>\n",
       "</div>"
      ],
      "text/plain": [
       "  Customers\n",
       "1     Henry\n",
       "3       Max"
      ]
     },
     "execution_count": 13,
     "metadata": {},
     "output_type": "execute_result"
    }
   ],
   "source": [
    "find_customers(customers, orders)"
   ]
  },
  {
   "cell_type": "markdown",
   "id": "ff4710ba",
   "metadata": {},
   "source": [
    "# 1148. Article Views I"
   ]
  },
  {
   "cell_type": "markdown",
   "id": "6bbfa120",
   "metadata": {},
   "source": [
    "+---------------+---------+\n",
    "| Column Name   | Type    |\n",
    "+---------------+---------+\n",
    "| article_id    | int     |\n",
    "| author_id     | int     |\n",
    "| viewer_id     | int     |\n",
    "| view_date     | date    |\n",
    "+---------------+---------+\n",
    "There is no primary key (column with unique values) for this table, the table may have duplicate rows.\n",
    "\n",
    "\n",
    "Each row of this table indicates that some viewer viewed an article (written by some author) on some date. \n",
    "Note that equal author_id and viewer_id indicate the same person.\n",
    "\n",
    "Write a solution to find all the authors that viewed at least one of their own articles.\n",
    "\n",
    "Return the result table sorted by id in ascending order.\n",
    "\n",
    "The result format is in the following example."
   ]
  },
  {
   "cell_type": "markdown",
   "id": "1c65694d",
   "metadata": {},
   "source": [
    "Input: \n",
    "Views table:\n",
    "+------------+-----------+-----------+------------+\n",
    "| article_id | author_id | viewer_id | view_date  |\n",
    "+------------+-----------+-----------+------------+\n",
    "| 1          | 3         | 5         | 2019-08-01 |\n",
    "| 1          | 3         | 6         | 2019-08-02 |\n",
    "| 2          | 7         | 7         | 2019-08-01 |\n",
    "| 2          | 7         | 6         | 2019-08-02 |\n",
    "| 4          | 7         | 1         | 2019-07-22 |\n",
    "| 3          | 4         | 4         | 2019-07-21 |\n",
    "| 3          | 4         | 4         | 2019-07-21 |\n",
    "+------------+-----------+-----------+------------+\n",
    "Output: \n",
    "+------+\n",
    "| id   |\n",
    "+------+\n",
    "| 4    |\n",
    "| 7    |\n",
    "+------+"
   ]
  },
  {
   "cell_type": "code",
   "execution_count": 29,
   "id": "ef2eb5e7",
   "metadata": {
    "ExecuteTime": {
     "end_time": "2023-08-12T10:58:11.897474Z",
     "start_time": "2023-08-12T10:58:11.894133Z"
    }
   },
   "outputs": [],
   "source": [
    "def article_views(views: pd.DataFrame) -> pd.DataFrame:\n",
    "    return (views.loc[views.author_id==views.viewer_id, ['author_id']]\n",
    "            .drop_duplicates()\n",
    "            .rename(columns={'author_id': 'id'})\n",
    "            .sort_values('id')\n",
    "           )"
   ]
  },
  {
   "cell_type": "code",
   "execution_count": 14,
   "id": "90349bf2",
   "metadata": {
    "ExecuteTime": {
     "end_time": "2023-08-12T10:50:12.961406Z",
     "start_time": "2023-08-12T10:50:12.947022Z"
    }
   },
   "outputs": [
    {
     "data": {
      "text/html": [
       "<div>\n",
       "<style scoped>\n",
       "    .dataframe tbody tr th:only-of-type {\n",
       "        vertical-align: middle;\n",
       "    }\n",
       "\n",
       "    .dataframe tbody tr th {\n",
       "        vertical-align: top;\n",
       "    }\n",
       "\n",
       "    .dataframe thead th {\n",
       "        text-align: right;\n",
       "    }\n",
       "</style>\n",
       "<table border=\"1\" class=\"dataframe\">\n",
       "  <thead>\n",
       "    <tr style=\"text-align: right;\">\n",
       "      <th></th>\n",
       "      <th>article_id</th>\n",
       "      <th>author_id</th>\n",
       "      <th>viewer_id</th>\n",
       "    </tr>\n",
       "  </thead>\n",
       "  <tbody>\n",
       "    <tr>\n",
       "      <th>0</th>\n",
       "      <td>1</td>\n",
       "      <td>3</td>\n",
       "      <td>5</td>\n",
       "    </tr>\n",
       "    <tr>\n",
       "      <th>1</th>\n",
       "      <td>1</td>\n",
       "      <td>3</td>\n",
       "      <td>6</td>\n",
       "    </tr>\n",
       "    <tr>\n",
       "      <th>2</th>\n",
       "      <td>2</td>\n",
       "      <td>7</td>\n",
       "      <td>7</td>\n",
       "    </tr>\n",
       "    <tr>\n",
       "      <th>3</th>\n",
       "      <td>2</td>\n",
       "      <td>7</td>\n",
       "      <td>6</td>\n",
       "    </tr>\n",
       "    <tr>\n",
       "      <th>4</th>\n",
       "      <td>4</td>\n",
       "      <td>7</td>\n",
       "      <td>1</td>\n",
       "    </tr>\n",
       "    <tr>\n",
       "      <th>5</th>\n",
       "      <td>3</td>\n",
       "      <td>4</td>\n",
       "      <td>4</td>\n",
       "    </tr>\n",
       "    <tr>\n",
       "      <th>6</th>\n",
       "      <td>3</td>\n",
       "      <td>4</td>\n",
       "      <td>4</td>\n",
       "    </tr>\n",
       "  </tbody>\n",
       "</table>\n",
       "</div>"
      ],
      "text/plain": [
       "   article_id  author_id  viewer_id\n",
       "0           1          3          5\n",
       "1           1          3          6\n",
       "2           2          7          7\n",
       "3           2          7          6\n",
       "4           4          7          1\n",
       "5           3          4          4\n",
       "6           3          4          4"
      ]
     },
     "execution_count": 14,
     "metadata": {},
     "output_type": "execute_result"
    }
   ],
   "source": [
    "a = [[1,3,5], [1,3,6], [2,7,7], [2,7,6], [4,7,1], [3, 4, 4], [3, 4, 4]]\n",
    "views = pd.DataFrame(a, columns=['article_id', 'author_id', 'viewer_id'])\n",
    "views"
   ]
  },
  {
   "cell_type": "code",
   "execution_count": 28,
   "id": "93addcca",
   "metadata": {
    "ExecuteTime": {
     "end_time": "2023-08-12T10:57:02.577592Z",
     "start_time": "2023-08-12T10:57:02.568334Z"
    }
   },
   "outputs": [
    {
     "data": {
      "text/html": [
       "<div>\n",
       "<style scoped>\n",
       "    .dataframe tbody tr th:only-of-type {\n",
       "        vertical-align: middle;\n",
       "    }\n",
       "\n",
       "    .dataframe tbody tr th {\n",
       "        vertical-align: top;\n",
       "    }\n",
       "\n",
       "    .dataframe thead th {\n",
       "        text-align: right;\n",
       "    }\n",
       "</style>\n",
       "<table border=\"1\" class=\"dataframe\">\n",
       "  <thead>\n",
       "    <tr style=\"text-align: right;\">\n",
       "      <th></th>\n",
       "      <th>id</th>\n",
       "    </tr>\n",
       "  </thead>\n",
       "  <tbody>\n",
       "    <tr>\n",
       "      <th>5</th>\n",
       "      <td>4</td>\n",
       "    </tr>\n",
       "    <tr>\n",
       "      <th>2</th>\n",
       "      <td>7</td>\n",
       "    </tr>\n",
       "  </tbody>\n",
       "</table>\n",
       "</div>"
      ],
      "text/plain": [
       "   id\n",
       "5   4\n",
       "2   7"
      ]
     },
     "execution_count": 28,
     "metadata": {},
     "output_type": "execute_result"
    }
   ],
   "source": [
    "(views.loc[views.author_id==views.viewer_id, ['author_id']]\n",
    " .drop_duplicates()\n",
    " .rename(columns={'author_id': 'id'})\n",
    " .sort_values('id')\n",
    " \n",
    ")"
   ]
  },
  {
   "cell_type": "code",
   "execution_count": 27,
   "id": "efb7d8f8",
   "metadata": {
    "ExecuteTime": {
     "end_time": "2023-08-12T10:56:55.501190Z",
     "start_time": "2023-08-12T10:56:55.495264Z"
    }
   },
   "outputs": [
    {
     "data": {
      "text/html": [
       "<div>\n",
       "<style scoped>\n",
       "    .dataframe tbody tr th:only-of-type {\n",
       "        vertical-align: middle;\n",
       "    }\n",
       "\n",
       "    .dataframe tbody tr th {\n",
       "        vertical-align: top;\n",
       "    }\n",
       "\n",
       "    .dataframe thead th {\n",
       "        text-align: right;\n",
       "    }\n",
       "</style>\n",
       "<table border=\"1\" class=\"dataframe\">\n",
       "  <thead>\n",
       "    <tr style=\"text-align: right;\">\n",
       "      <th></th>\n",
       "      <th>article_id</th>\n",
       "      <th>author_id</th>\n",
       "      <th>viewer_id</th>\n",
       "    </tr>\n",
       "  </thead>\n",
       "  <tbody>\n",
       "    <tr>\n",
       "      <th>0</th>\n",
       "      <td>1</td>\n",
       "      <td>3</td>\n",
       "      <td>5</td>\n",
       "    </tr>\n",
       "    <tr>\n",
       "      <th>1</th>\n",
       "      <td>1</td>\n",
       "      <td>3</td>\n",
       "      <td>6</td>\n",
       "    </tr>\n",
       "    <tr>\n",
       "      <th>5</th>\n",
       "      <td>3</td>\n",
       "      <td>4</td>\n",
       "      <td>4</td>\n",
       "    </tr>\n",
       "    <tr>\n",
       "      <th>6</th>\n",
       "      <td>3</td>\n",
       "      <td>4</td>\n",
       "      <td>4</td>\n",
       "    </tr>\n",
       "    <tr>\n",
       "      <th>2</th>\n",
       "      <td>2</td>\n",
       "      <td>7</td>\n",
       "      <td>7</td>\n",
       "    </tr>\n",
       "    <tr>\n",
       "      <th>3</th>\n",
       "      <td>2</td>\n",
       "      <td>7</td>\n",
       "      <td>6</td>\n",
       "    </tr>\n",
       "    <tr>\n",
       "      <th>4</th>\n",
       "      <td>4</td>\n",
       "      <td>7</td>\n",
       "      <td>1</td>\n",
       "    </tr>\n",
       "  </tbody>\n",
       "</table>\n",
       "</div>"
      ],
      "text/plain": [
       "   article_id  author_id  viewer_id\n",
       "0           1          3          5\n",
       "1           1          3          6\n",
       "5           3          4          4\n",
       "6           3          4          4\n",
       "2           2          7          7\n",
       "3           2          7          6\n",
       "4           4          7          1"
      ]
     },
     "execution_count": 27,
     "metadata": {},
     "output_type": "execute_result"
    }
   ],
   "source": [
    "views.sort_values(by='author_id')"
   ]
  },
  {
   "cell_type": "code",
   "execution_count": 30,
   "id": "7bf735db",
   "metadata": {
    "ExecuteTime": {
     "end_time": "2023-08-12T10:58:15.155050Z",
     "start_time": "2023-08-12T10:58:15.141265Z"
    }
   },
   "outputs": [
    {
     "data": {
      "text/html": [
       "<div>\n",
       "<style scoped>\n",
       "    .dataframe tbody tr th:only-of-type {\n",
       "        vertical-align: middle;\n",
       "    }\n",
       "\n",
       "    .dataframe tbody tr th {\n",
       "        vertical-align: top;\n",
       "    }\n",
       "\n",
       "    .dataframe thead th {\n",
       "        text-align: right;\n",
       "    }\n",
       "</style>\n",
       "<table border=\"1\" class=\"dataframe\">\n",
       "  <thead>\n",
       "    <tr style=\"text-align: right;\">\n",
       "      <th></th>\n",
       "      <th>id</th>\n",
       "    </tr>\n",
       "  </thead>\n",
       "  <tbody>\n",
       "    <tr>\n",
       "      <th>5</th>\n",
       "      <td>4</td>\n",
       "    </tr>\n",
       "    <tr>\n",
       "      <th>2</th>\n",
       "      <td>7</td>\n",
       "    </tr>\n",
       "  </tbody>\n",
       "</table>\n",
       "</div>"
      ],
      "text/plain": [
       "   id\n",
       "5   4\n",
       "2   7"
      ]
     },
     "execution_count": 30,
     "metadata": {},
     "output_type": "execute_result"
    }
   ],
   "source": [
    "article_views(views)"
   ]
  }
 ],
 "metadata": {
  "kernelspec": {
   "display_name": "Python 3",
   "language": "python",
   "name": "python3"
  },
  "language_info": {
   "codemirror_mode": {
    "name": "ipython",
    "version": 3
   },
   "file_extension": ".py",
   "mimetype": "text/x-python",
   "name": "python",
   "nbconvert_exporter": "python",
   "pygments_lexer": "ipython3",
   "version": "3.9.13"
  },
  "toc": {
   "base_numbering": 1,
   "nav_menu": {},
   "number_sections": true,
   "sideBar": true,
   "skip_h1_title": false,
   "title_cell": "Table of Contents",
   "title_sidebar": "Contents",
   "toc_cell": false,
   "toc_position": {},
   "toc_section_display": true,
   "toc_window_display": true
  }
 },
 "nbformat": 4,
 "nbformat_minor": 5
}
